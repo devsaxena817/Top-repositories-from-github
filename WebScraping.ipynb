{
 "cells": [
  {
   "cell_type": "markdown",
   "id": "24a21c4c-0146-4bf1-b2c5-154a1354a9ee",
   "metadata": {},
   "source": [
    "## Scraping Top Repositories for Topics on Github\n",
    "### TODO:\n",
    "- Introduction about web scraping\n",
    "- Introduction about Github and the problem statement\n",
    "- Mention the tools like Python ,requests Beautiful soup,Pandasdas"
   ]
  },
  {
   "cell_type": "markdown",
   "id": "d86d6eef-4272-4d2a-87d5-4e5ef1b28798",
   "metadata": {
    "jp-MarkdownHeadingCollapsed": true
   },
   "source": [
    "### Here are the steps we will follow:\n",
    "- Outline:\n",
    "- We are going to scrape https://github.com/topics\n",
    "- We will get a list of topics. For each topic, we'll get topic title, topic page URL and topic\n",
    "description\n",
    "- For each topic, we'll get the top 25 repositories in the topic from the topic page\n",
    "- For each repository ,we'll grab the repo name,username,stars and repo URL\n",
    "- for each topic we'll create a CSV file in the following format:\n",
    "- Repo Name,Username,Stars,Repo URL"
   ]
  },
  {
   "cell_type": "markdown",
   "id": "1adc1058-be6b-471d-8dc1-cb98a7ee52ea",
   "metadata": {},
   "source": [
    "## Scrape the list of topics from Github\n",
    "### Explain your approach\n",
    "- use requests to download the page\n",
    "- use BS4 to parse and extract information\n",
    "- convert to a pandas dataframe\n",
    "  \n",
    "let's write a function to download the page"
   ]
  },
  {
   "cell_type": "code",
   "execution_count": 4,
   "id": "289ac86d-9e0b-4e78-8875-8c54f1653d46",
   "metadata": {},
   "outputs": [],
   "source": [
    "import requests\n",
    "from bs4 import BeautifulSoup\n",
    "def get_topics_page():\n",
    "    topics_url = 'https://github.com/topics'\n",
    "    response = requests.get(topics_url)\n",
    "        \n",
    "        # Check for a successful page load\n",
    "    if response.status_code != 200:\n",
    "        raise Exception(f'Failed to load page {topics_url}')\n",
    "        \n",
    "    doc = BeautifulSoup(response.text, 'html.parser')\n",
    "        \n",
    "    return doc"
   ]
  },
  {
   "cell_type": "code",
   "execution_count": 5,
   "id": "8314ebbd-fe6c-4c4f-af28-ac8beffb365a",
   "metadata": {},
   "outputs": [],
   "source": [
    "doc=get_topics_page()"
   ]
  },
  {
   "cell_type": "code",
   "execution_count": 6,
   "id": "2f8da8ba-67f7-494b-9007-2fc9a1251d0f",
   "metadata": {},
   "outputs": [
    {
     "data": {
      "text/plain": [
       "bs4.BeautifulSoup"
      ]
     },
     "execution_count": 6,
     "metadata": {},
     "output_type": "execute_result"
    }
   ],
   "source": [
    "type(doc)"
   ]
  },
  {
   "cell_type": "code",
   "execution_count": 7,
   "id": "a39420a1-d2de-4d01-aace-687c8d29d759",
   "metadata": {},
   "outputs": [
    {
     "data": {
      "text/plain": [
       "<a class=\"px-2 py-4 color-bg-accent-emphasis color-fg-on-emphasis show-on-focus js-skip-to-content\" data-skip-target-assigned=\"false\" href=\"#start-of-content\">Skip to content</a>"
      ]
     },
     "execution_count": 7,
     "metadata": {},
     "output_type": "execute_result"
    }
   ],
   "source": [
    "doc.find('a')"
   ]
  },
  {
   "cell_type": "markdown",
   "id": "9a4c50c2-6180-4ffa-86e6-8ae483600a89",
   "metadata": {},
   "source": [
    "### Let's create some helper functions to parse information from the page\n",
    "### To get topic titles, we can pick 'p' tags with the 'class'...\n",
    "![](https://i.imgur.com/SBIH1gw.png)"
   ]
  },
  {
   "cell_type": "code",
   "execution_count": 9,
   "id": "8d76a3d9-a7cc-486d-a651-61ede0c95e42",
   "metadata": {},
   "outputs": [],
   "source": [
    "# Function to extract topic titles from the HTML document\n",
    "def get_topic_titles(doc):\n",
    "    selection_class = \"f3 lh-condensed mb-0 mt-1 Link--primary\"\n",
    "    # Find all <p> tags with the specified class for topic titles\n",
    "    topic_title_tags = doc.find_all('p', {'class': selection_class})\n",
    "    topic_titles = []\n",
    "    # Extract and store the text of each topic title\n",
    "    for tag in topic_title_tags:\n",
    "        topic_titles.append(tag.text)\n",
    "    return topic_titles"
   ]
  },
  {
   "cell_type": "markdown",
   "id": "de569109-7dab-4392-9a32-ccab9ba409a9",
   "metadata": {},
   "source": [
    "get_topic titles can be used to get the list of titles"
   ]
  },
  {
   "cell_type": "code",
   "execution_count": 11,
   "id": "b3e5ac28-a5f7-4d24-809b-6d4c27ed0e54",
   "metadata": {},
   "outputs": [],
   "source": [
    "titles=get_topic_titles(doc)"
   ]
  },
  {
   "cell_type": "code",
   "execution_count": 12,
   "id": "4a73346f-e306-45d4-93e2-eb7130690e20",
   "metadata": {},
   "outputs": [
    {
     "data": {
      "text/plain": [
       "30"
      ]
     },
     "execution_count": 12,
     "metadata": {},
     "output_type": "execute_result"
    }
   ],
   "source": [
    "len(titles)"
   ]
  },
  {
   "cell_type": "markdown",
   "id": "259b1396-bdbe-4cad-bb31-627c5b4708b8",
   "metadata": {},
   "source": [
    "### Similarly we have defined functions for finding descriptions and urls"
   ]
  },
  {
   "cell_type": "code",
   "execution_count": 14,
   "id": "8f2ee6a2-d878-4c9c-85a2-5dff8a78c97e",
   "metadata": {},
   "outputs": [],
   "source": [
    "# Function to extract topic descriptions from the HTML document\n",
    "def get_topic_descs(doc):\n",
    "    desc_selector = \"f5 color-fg-muted mb-0 mt-1\"\n",
    "    # Find all <p> tags with the specified class for topic descriptions\n",
    "    topic_description_tags = doc.find_all('p', {'class': desc_selector})\n",
    "    topic_descriptions = []\n",
    "    # Extract and store the text of each description\n",
    "    for tag in topic_description_tags:\n",
    "        topic_descriptions.append(tag.text.strip())\n",
    "    return topic_descriptions"
   ]
  },
  {
   "cell_type": "markdown",
   "id": "adf50548-dd4f-4c4d-b487-69f2b3ceec54",
   "metadata": {},
   "source": [
    "### TODO:\n",
    "### Example and Explanation"
   ]
  },
  {
   "cell_type": "code",
   "execution_count": 16,
   "id": "cf4a4bbb-bc72-44b1-a504-a4c18edd98f4",
   "metadata": {},
   "outputs": [],
   "source": [
    "# Function to extract URLs for each topic from the HTML document\n",
    "def get_topic_urls(doc):\n",
    "    # Find all <a> tags with the specified class for topic links\n",
    "    topic_link_tags = doc.find_all('a', {'class': \"no-underline flex-grow-0\"})\n",
    "    topic_urls = []\n",
    "    # Construct the full URL and store it\n",
    "    for tag in topic_link_tags:\n",
    "        topic_urls.append(\"https://github.com\" + tag['href'])\n",
    "    return topic_urls"
   ]
  },
  {
   "cell_type": "markdown",
   "id": "04668967-1bb5-4d5b-a164-7b0174f8e88b",
   "metadata": {},
   "source": [
    "### Lets put this all together into a single function"
   ]
  },
  {
   "cell_type": "code",
   "execution_count": 18,
   "id": "72c1f571-656f-4421-9d53-d668aeffba71",
   "metadata": {},
   "outputs": [],
   "source": [
    "# Function to scrape topics and their related repositories from GitHub Topics page\n",
    "def scrape_topics():\n",
    "    topics_url = 'https://github.com/topics'\n",
    "    response = requests.get(topics_url)\n",
    "    \n",
    "    # Check for a successful page load\n",
    "    if response.status_code != 200:\n",
    "        raise Exception(f'Failed to load page {topics_url}')\n",
    "    \n",
    "    doc = BeautifulSoup(response.text, 'html.parser')\n",
    "    \n",
    "    # Create a dictionary to store the scraped data\n",
    "    topics_dict = {\n",
    "        'title': get_topic_titles(doc),\n",
    "        'description': get_topic_descs(doc),\n",
    "        'url': get_topic_urls(doc)\n",
    "    }\n",
    "    \n",
    "    # Return the data as a DataFrame\n",
    "    return pd.DataFrame(topics_dict)"
   ]
  },
  {
   "cell_type": "code",
   "execution_count": null,
   "id": "f8ecc4ae-31f6-479f-b158-670336ad7ba0",
   "metadata": {},
   "outputs": [],
   "source": []
  },
  {
   "cell_type": "markdown",
   "id": "025bc451-79dd-43b0-b80d-4a6cbf3740d6",
   "metadata": {},
   "source": [
    "## Get the top 25 repositories in the topic from the topic page\n",
    "### TODO-Explanation and step"
   ]
  },
  {
   "cell_type": "code",
   "execution_count": 20,
   "id": "06823c56-be17-4dad-8938-7ca2ca6f2d8c",
   "metadata": {},
   "outputs": [],
   "source": [
    "def get_topic_page(topic_url):\n",
    "    ## Download the page\n",
    "    response = requests.get(topic_url)\n",
    "    \n",
    "    ## Check successful response\n",
    "    if response.status_code != 200:\n",
    "        raise Exception(f'Failed to load page {topic_url}')\n",
    "    \n",
    "    ## Parse using Beautiful Soup\n",
    "    topic_doc = BeautifulSoup(response.text, 'html.parser')\n",
    "    return topic_doc\n"
   ]
  },
  {
   "cell_type": "code",
   "execution_count": 21,
   "id": "85e7d003-af26-4ebf-8a48-e9ae0ba6b73e",
   "metadata": {},
   "outputs": [],
   "source": [
    "doc=get_topic_page('https://github.com/topics/3d')"
   ]
  },
  {
   "cell_type": "markdown",
   "id": "e846fc4b-b00f-4f94-8b01-0bc9f422e19d",
   "metadata": {},
   "source": [
    " TODO-talk about the h3 tags"
   ]
  },
  {
   "cell_type": "code",
   "execution_count": 37,
   "id": "bfdb1da9-00fb-41c3-843d-fe30cca3a55e",
   "metadata": {},
   "outputs": [],
   "source": [
    "def parse_star_count(stars_str):\n",
    "    stars_str=stars_str.strip()\n",
    "    if(stars_str[-1]=='k'):\n",
    "        return int(float(stars_str[:-1])*1000)\n",
    "    return int(stars_str)"
   ]
  },
  {
   "cell_type": "code",
   "execution_count": 33,
   "id": "71d6a973-5f24-4eb9-a020-8705e6d72f93",
   "metadata": {},
   "outputs": [],
   "source": [
    "def get_repo_info(h3_tag,star_tag):\n",
    "    ##returns all the required info about a repository\n",
    "    base_url='https://github.com/topics'\n",
    "    a_tags=h3_tag.find_all('a')\n",
    "    username=a_tags[0].text.strip()\n",
    "    repo_name=a_tags[1].text.strip()\n",
    "    repo_url=base_url+a_tags[1]['href']\n",
    "    stars=parse_star_count(star_tag.text.strip())\n",
    "    return username,repo_name,stars,repo_url\n"
   ]
  },
  {
   "cell_type": "markdown",
   "id": "ac3524d6-2309-4e28-9818-bcc4fe898cdf",
   "metadata": {},
   "source": [
    "TODO-show an example"
   ]
  },
  {
   "cell_type": "code",
   "execution_count": 25,
   "id": "a3ebea6d-ac50-4ec5-96d1-96972afdf1b5",
   "metadata": {},
   "outputs": [],
   "source": [
    "def get_topic_repos(topic_doc):\n",
    "    \n",
    "    ## Get the h3 tags containing repo title, repo URL, username\n",
    "    repo_tags = topic_doc.find_all('h3', class_='f3 color-fg-muted text-normal lh-condensed')\n",
    "    \n",
    "    ## Get star tags\n",
    "    star_tags = topic_doc.find_all('span', class_='Counter js-social-count')\n",
    "    \n",
    "    ## Get repo info\n",
    "    topic_repos_dict = {\n",
    "        'username': [],\n",
    "        'repo_name': [],\n",
    "        'stars': [],\n",
    "        'repo_url': []\n",
    "    }\n",
    "    \n",
    "    for i in range(len(repo_tags)):\n",
    "        repo_info = get_repo_info(repo_tags[i], star_tags[i])\n",
    "        topic_repos_dict['username'].append(repo_info[0])\n",
    "        topic_repos_dict['repo_name'].append(repo_info[1])\n",
    "        topic_repos_dict['stars'].append(repo_info[2])\n",
    "        topic_repos_dict['repo_url'].append(repo_info[3])\n",
    "    \n",
    "    return pd.DataFrame(topic_repos_dict)\n"
   ]
  },
  {
   "cell_type": "markdown",
   "id": "673f156d-e7fb-46ae-864d-d6f5712ad6d2",
   "metadata": {},
   "source": [
    "TODO-Show an example"
   ]
  },
  {
   "cell_type": "code",
   "execution_count": 27,
   "id": "e9371d6d-c1b9-42d9-82ee-ed9f40e90b0e",
   "metadata": {},
   "outputs": [],
   "source": [
    "def scrape_topic(topic_url,topic_name):\n",
    "    topic_df=get_topic_repos(get_topic_page(topic_url))\n",
    "    topic_df.to_csv(topic_name+'.csv',index=None)"
   ]
  },
  {
   "cell_type": "markdown",
   "id": "a7c021a5-0f99-4c3e-854b-998aace8ba8a",
   "metadata": {},
   "source": [
    "TODO-Show an example"
   ]
  },
  {
   "cell_type": "code",
   "execution_count": null,
   "id": "f1ff89f4-16d2-40d0-8656-f7185a6c02fe",
   "metadata": {},
   "outputs": [],
   "source": []
  },
  {
   "cell_type": "markdown",
   "id": "fb7c9a2a-ca90-415d-bfca-79bf999b16aa",
   "metadata": {},
   "source": [
    "## Putting it all together\n",
    "- We have a function to get the list of topics\n",
    "- We have a function to create a CSV file from scraped repos from a topic page\n",
    "- Let's create a function to put them together"
   ]
  },
  {
   "cell_type": "code",
   "execution_count": 30,
   "id": "37acec37-7aae-4bb0-afe5-dd4a2830c377",
   "metadata": {},
   "outputs": [],
   "source": [
    "def scrape_topics_repos():\n",
    "    print('Scraping list of topics')\n",
    "    topics_df=scrape_topics()\n",
    "    for index,row in topics_df.iterrows():\n",
    "        print(\"Scraping top repositories for {}\".format(row['title']))\n",
    "        scrape_topic(row['url'],row['title'])"
   ]
  },
  {
   "cell_type": "markdown",
   "id": "e3d3423f-c9ae-4d74-a3dc-387067648226",
   "metadata": {},
   "source": [
    "Let's run it to scrape the top repos for all the topics on the first page of \n",
    "'https://github.com/topics'"
   ]
  },
  {
   "cell_type": "code",
   "execution_count": 39,
   "id": "10fe5d52-bbd5-4ae8-8999-58077ef4973d",
   "metadata": {},
   "outputs": [
    {
     "name": "stdout",
     "output_type": "stream",
     "text": [
      "Scraping list of topics\n"
     ]
    },
    {
     "data": {
      "application/javascript": "\n        if (window._pyforest_update_imports_cell) { window._pyforest_update_imports_cell('import pandas as pd'); }\n    ",
      "text/plain": [
       "<IPython.core.display.Javascript object>"
      ]
     },
     "metadata": {},
     "output_type": "display_data"
    },
    {
     "name": "stdout",
     "output_type": "stream",
     "text": [
      "Scraping top repositories for 3D\n"
     ]
    },
    {
     "data": {
      "application/javascript": "\n        if (window._pyforest_update_imports_cell) { window._pyforest_update_imports_cell('import pandas as pd'); }\n    ",
      "text/plain": [
       "<IPython.core.display.Javascript object>"
      ]
     },
     "metadata": {},
     "output_type": "display_data"
    },
    {
     "name": "stdout",
     "output_type": "stream",
     "text": [
      "Scraping top repositories for Ajax\n"
     ]
    },
    {
     "data": {
      "application/javascript": "\n        if (window._pyforest_update_imports_cell) { window._pyforest_update_imports_cell('import pandas as pd'); }\n    ",
      "text/plain": [
       "<IPython.core.display.Javascript object>"
      ]
     },
     "metadata": {},
     "output_type": "display_data"
    },
    {
     "name": "stdout",
     "output_type": "stream",
     "text": [
      "Scraping top repositories for Algorithm\n"
     ]
    },
    {
     "data": {
      "application/javascript": "\n        if (window._pyforest_update_imports_cell) { window._pyforest_update_imports_cell('import pandas as pd'); }\n    ",
      "text/plain": [
       "<IPython.core.display.Javascript object>"
      ]
     },
     "metadata": {},
     "output_type": "display_data"
    },
    {
     "name": "stdout",
     "output_type": "stream",
     "text": [
      "Scraping top repositories for Amp\n"
     ]
    },
    {
     "data": {
      "application/javascript": "\n        if (window._pyforest_update_imports_cell) { window._pyforest_update_imports_cell('import pandas as pd'); }\n    ",
      "text/plain": [
       "<IPython.core.display.Javascript object>"
      ]
     },
     "metadata": {},
     "output_type": "display_data"
    },
    {
     "name": "stdout",
     "output_type": "stream",
     "text": [
      "Scraping top repositories for Android\n"
     ]
    },
    {
     "data": {
      "application/javascript": "\n        if (window._pyforest_update_imports_cell) { window._pyforest_update_imports_cell('import pandas as pd'); }\n    ",
      "text/plain": [
       "<IPython.core.display.Javascript object>"
      ]
     },
     "metadata": {},
     "output_type": "display_data"
    },
    {
     "name": "stdout",
     "output_type": "stream",
     "text": [
      "Scraping top repositories for Angular\n"
     ]
    },
    {
     "data": {
      "application/javascript": "\n        if (window._pyforest_update_imports_cell) { window._pyforest_update_imports_cell('import pandas as pd'); }\n    ",
      "text/plain": [
       "<IPython.core.display.Javascript object>"
      ]
     },
     "metadata": {},
     "output_type": "display_data"
    },
    {
     "name": "stdout",
     "output_type": "stream",
     "text": [
      "Scraping top repositories for Ansible\n"
     ]
    },
    {
     "data": {
      "application/javascript": "\n        if (window._pyforest_update_imports_cell) { window._pyforest_update_imports_cell('import pandas as pd'); }\n    ",
      "text/plain": [
       "<IPython.core.display.Javascript object>"
      ]
     },
     "metadata": {},
     "output_type": "display_data"
    },
    {
     "name": "stdout",
     "output_type": "stream",
     "text": [
      "Scraping top repositories for API\n"
     ]
    },
    {
     "data": {
      "application/javascript": "\n        if (window._pyforest_update_imports_cell) { window._pyforest_update_imports_cell('import pandas as pd'); }\n    ",
      "text/plain": [
       "<IPython.core.display.Javascript object>"
      ]
     },
     "metadata": {},
     "output_type": "display_data"
    },
    {
     "name": "stdout",
     "output_type": "stream",
     "text": [
      "Scraping top repositories for Arduino\n"
     ]
    },
    {
     "data": {
      "application/javascript": "\n        if (window._pyforest_update_imports_cell) { window._pyforest_update_imports_cell('import pandas as pd'); }\n    ",
      "text/plain": [
       "<IPython.core.display.Javascript object>"
      ]
     },
     "metadata": {},
     "output_type": "display_data"
    },
    {
     "name": "stdout",
     "output_type": "stream",
     "text": [
      "Scraping top repositories for ASP.NET\n"
     ]
    },
    {
     "data": {
      "application/javascript": "\n        if (window._pyforest_update_imports_cell) { window._pyforest_update_imports_cell('import pandas as pd'); }\n    ",
      "text/plain": [
       "<IPython.core.display.Javascript object>"
      ]
     },
     "metadata": {},
     "output_type": "display_data"
    },
    {
     "name": "stdout",
     "output_type": "stream",
     "text": [
      "Scraping top repositories for Awesome Lists\n"
     ]
    },
    {
     "data": {
      "application/javascript": "\n        if (window._pyforest_update_imports_cell) { window._pyforest_update_imports_cell('import pandas as pd'); }\n    ",
      "text/plain": [
       "<IPython.core.display.Javascript object>"
      ]
     },
     "metadata": {},
     "output_type": "display_data"
    },
    {
     "name": "stdout",
     "output_type": "stream",
     "text": [
      "Scraping top repositories for Amazon Web Services\n"
     ]
    },
    {
     "data": {
      "application/javascript": "\n        if (window._pyforest_update_imports_cell) { window._pyforest_update_imports_cell('import pandas as pd'); }\n    ",
      "text/plain": [
       "<IPython.core.display.Javascript object>"
      ]
     },
     "metadata": {},
     "output_type": "display_data"
    },
    {
     "name": "stdout",
     "output_type": "stream",
     "text": [
      "Scraping top repositories for Azure\n"
     ]
    },
    {
     "data": {
      "application/javascript": "\n        if (window._pyforest_update_imports_cell) { window._pyforest_update_imports_cell('import pandas as pd'); }\n    ",
      "text/plain": [
       "<IPython.core.display.Javascript object>"
      ]
     },
     "metadata": {},
     "output_type": "display_data"
    },
    {
     "name": "stdout",
     "output_type": "stream",
     "text": [
      "Scraping top repositories for Babel\n"
     ]
    },
    {
     "data": {
      "application/javascript": "\n        if (window._pyforest_update_imports_cell) { window._pyforest_update_imports_cell('import pandas as pd'); }\n    ",
      "text/plain": [
       "<IPython.core.display.Javascript object>"
      ]
     },
     "metadata": {},
     "output_type": "display_data"
    },
    {
     "name": "stdout",
     "output_type": "stream",
     "text": [
      "Scraping top repositories for Bash\n"
     ]
    },
    {
     "data": {
      "application/javascript": "\n        if (window._pyforest_update_imports_cell) { window._pyforest_update_imports_cell('import pandas as pd'); }\n    ",
      "text/plain": [
       "<IPython.core.display.Javascript object>"
      ]
     },
     "metadata": {},
     "output_type": "display_data"
    },
    {
     "name": "stdout",
     "output_type": "stream",
     "text": [
      "Scraping top repositories for Bitcoin\n"
     ]
    },
    {
     "data": {
      "application/javascript": "\n        if (window._pyforest_update_imports_cell) { window._pyforest_update_imports_cell('import pandas as pd'); }\n    ",
      "text/plain": [
       "<IPython.core.display.Javascript object>"
      ]
     },
     "metadata": {},
     "output_type": "display_data"
    },
    {
     "name": "stdout",
     "output_type": "stream",
     "text": [
      "Scraping top repositories for Bootstrap\n"
     ]
    },
    {
     "data": {
      "application/javascript": "\n        if (window._pyforest_update_imports_cell) { window._pyforest_update_imports_cell('import pandas as pd'); }\n    ",
      "text/plain": [
       "<IPython.core.display.Javascript object>"
      ]
     },
     "metadata": {},
     "output_type": "display_data"
    },
    {
     "name": "stdout",
     "output_type": "stream",
     "text": [
      "Scraping top repositories for Bot\n"
     ]
    },
    {
     "data": {
      "application/javascript": "\n        if (window._pyforest_update_imports_cell) { window._pyforest_update_imports_cell('import pandas as pd'); }\n    ",
      "text/plain": [
       "<IPython.core.display.Javascript object>"
      ]
     },
     "metadata": {},
     "output_type": "display_data"
    },
    {
     "name": "stdout",
     "output_type": "stream",
     "text": [
      "Scraping top repositories for C\n"
     ]
    },
    {
     "data": {
      "application/javascript": "\n        if (window._pyforest_update_imports_cell) { window._pyforest_update_imports_cell('import pandas as pd'); }\n    ",
      "text/plain": [
       "<IPython.core.display.Javascript object>"
      ]
     },
     "metadata": {},
     "output_type": "display_data"
    },
    {
     "name": "stdout",
     "output_type": "stream",
     "text": [
      "Scraping top repositories for Chrome\n"
     ]
    },
    {
     "data": {
      "application/javascript": "\n        if (window._pyforest_update_imports_cell) { window._pyforest_update_imports_cell('import pandas as pd'); }\n    ",
      "text/plain": [
       "<IPython.core.display.Javascript object>"
      ]
     },
     "metadata": {},
     "output_type": "display_data"
    },
    {
     "name": "stdout",
     "output_type": "stream",
     "text": [
      "Scraping top repositories for Chrome extension\n"
     ]
    },
    {
     "data": {
      "application/javascript": "\n        if (window._pyforest_update_imports_cell) { window._pyforest_update_imports_cell('import pandas as pd'); }\n    ",
      "text/plain": [
       "<IPython.core.display.Javascript object>"
      ]
     },
     "metadata": {},
     "output_type": "display_data"
    },
    {
     "name": "stdout",
     "output_type": "stream",
     "text": [
      "Scraping top repositories for Command-line interface\n"
     ]
    },
    {
     "data": {
      "application/javascript": "\n        if (window._pyforest_update_imports_cell) { window._pyforest_update_imports_cell('import pandas as pd'); }\n    ",
      "text/plain": [
       "<IPython.core.display.Javascript object>"
      ]
     },
     "metadata": {},
     "output_type": "display_data"
    },
    {
     "name": "stdout",
     "output_type": "stream",
     "text": [
      "Scraping top repositories for Clojure\n"
     ]
    },
    {
     "data": {
      "application/javascript": "\n        if (window._pyforest_update_imports_cell) { window._pyforest_update_imports_cell('import pandas as pd'); }\n    ",
      "text/plain": [
       "<IPython.core.display.Javascript object>"
      ]
     },
     "metadata": {},
     "output_type": "display_data"
    },
    {
     "name": "stdout",
     "output_type": "stream",
     "text": [
      "Scraping top repositories for Code quality\n"
     ]
    },
    {
     "data": {
      "application/javascript": "\n        if (window._pyforest_update_imports_cell) { window._pyforest_update_imports_cell('import pandas as pd'); }\n    ",
      "text/plain": [
       "<IPython.core.display.Javascript object>"
      ]
     },
     "metadata": {},
     "output_type": "display_data"
    },
    {
     "name": "stdout",
     "output_type": "stream",
     "text": [
      "Scraping top repositories for Code review\n"
     ]
    },
    {
     "data": {
      "application/javascript": "\n        if (window._pyforest_update_imports_cell) { window._pyforest_update_imports_cell('import pandas as pd'); }\n    ",
      "text/plain": [
       "<IPython.core.display.Javascript object>"
      ]
     },
     "metadata": {},
     "output_type": "display_data"
    },
    {
     "name": "stdout",
     "output_type": "stream",
     "text": [
      "Scraping top repositories for Compiler\n"
     ]
    },
    {
     "data": {
      "application/javascript": "\n        if (window._pyforest_update_imports_cell) { window._pyforest_update_imports_cell('import pandas as pd'); }\n    ",
      "text/plain": [
       "<IPython.core.display.Javascript object>"
      ]
     },
     "metadata": {},
     "output_type": "display_data"
    },
    {
     "name": "stdout",
     "output_type": "stream",
     "text": [
      "Scraping top repositories for Continuous integration\n"
     ]
    },
    {
     "data": {
      "application/javascript": "\n        if (window._pyforest_update_imports_cell) { window._pyforest_update_imports_cell('import pandas as pd'); }\n    ",
      "text/plain": [
       "<IPython.core.display.Javascript object>"
      ]
     },
     "metadata": {},
     "output_type": "display_data"
    },
    {
     "name": "stdout",
     "output_type": "stream",
     "text": [
      "Scraping top repositories for C++\n"
     ]
    },
    {
     "data": {
      "application/javascript": "\n        if (window._pyforest_update_imports_cell) { window._pyforest_update_imports_cell('import pandas as pd'); }\n    ",
      "text/plain": [
       "<IPython.core.display.Javascript object>"
      ]
     },
     "metadata": {},
     "output_type": "display_data"
    },
    {
     "name": "stdout",
     "output_type": "stream",
     "text": [
      "Scraping top repositories for Cryptocurrency\n"
     ]
    },
    {
     "data": {
      "application/javascript": "\n        if (window._pyforest_update_imports_cell) { window._pyforest_update_imports_cell('import pandas as pd'); }\n    ",
      "text/plain": [
       "<IPython.core.display.Javascript object>"
      ]
     },
     "metadata": {},
     "output_type": "display_data"
    },
    {
     "name": "stdout",
     "output_type": "stream",
     "text": [
      "Scraping top repositories for Crystal\n"
     ]
    },
    {
     "data": {
      "application/javascript": "\n        if (window._pyforest_update_imports_cell) { window._pyforest_update_imports_cell('import pandas as pd'); }\n    ",
      "text/plain": [
       "<IPython.core.display.Javascript object>"
      ]
     },
     "metadata": {},
     "output_type": "display_data"
    }
   ],
   "source": [
    "scrape_topics_repos()"
   ]
  },
  {
   "cell_type": "markdown",
   "id": "d9a70294-dc77-4c97-a833-d0bc1e33752f",
   "metadata": {},
   "source": [
    " We can check if the CSV files were created properly\n",
    " We can read and display a CSV file using Pandas"
   ]
  },
  {
   "cell_type": "markdown",
   "id": "6189e9e9-bebf-4083-8d0a-1f48c41ddfba",
   "metadata": {},
   "source": [
    "## References and Future Work\n",
    "- Summary of what we did\n",
    "- reference to links you found useful\n",
    "- Ideas for future work"
   ]
  },
  {
   "cell_type": "code",
   "execution_count": null,
   "id": "806c46d8-85c6-4d7b-bd14-3646d8a6649a",
   "metadata": {},
   "outputs": [],
   "source": []
  }
 ],
 "metadata": {
  "kernelspec": {
   "display_name": "Python 3 (ipykernel)",
   "language": "python",
   "name": "python3"
  },
  "language_info": {
   "codemirror_mode": {
    "name": "ipython",
    "version": 3
   },
   "file_extension": ".py",
   "mimetype": "text/x-python",
   "name": "python",
   "nbconvert_exporter": "python",
   "pygments_lexer": "ipython3",
   "version": "3.12.4"
  }
 },
 "nbformat": 4,
 "nbformat_minor": 5
}
